{
 "cells": [
  {
   "cell_type": "markdown",
   "metadata": {},
   "source": [
    "## LightGBM用法速查表\n",
    "### by 寒小阳"
   ]
  },
  {
   "cell_type": "markdown",
   "metadata": {},
   "source": [
    "#### 1.读取csv数据并指定参数建模\n",
    "\n",
    "**by 寒小阳**"
   ]
  },
  {
   "cell_type": "code",
   "execution_count": 1,
   "metadata": {},
   "outputs": [
    {
     "name": "stdout",
     "output_type": "stream",
     "text": [
      "Load data...\n",
      "开始训练...\n",
      "[1]\tvalid_0's l2: 0.24288\tvalid_0's auc: 0.764496\n",
      "Training until validation scores don't improve for 5 rounds.\n",
      "[2]\tvalid_0's l2: 0.239307\tvalid_0's auc: 0.766173\n",
      "[3]\tvalid_0's l2: 0.235559\tvalid_0's auc: 0.785547\n",
      "[4]\tvalid_0's l2: 0.230771\tvalid_0's auc: 0.797786\n",
      "[5]\tvalid_0's l2: 0.226297\tvalid_0's auc: 0.805155\n",
      "[6]\tvalid_0's l2: 0.223692\tvalid_0's auc: 0.800979\n",
      "[7]\tvalid_0's l2: 0.220941\tvalid_0's auc: 0.806566\n",
      "[8]\tvalid_0's l2: 0.217982\tvalid_0's auc: 0.808566\n",
      "[9]\tvalid_0's l2: 0.215351\tvalid_0's auc: 0.809041\n",
      "[10]\tvalid_0's l2: 0.213064\tvalid_0's auc: 0.805953\n",
      "[11]\tvalid_0's l2: 0.211053\tvalid_0's auc: 0.804631\n",
      "[12]\tvalid_0's l2: 0.209336\tvalid_0's auc: 0.802922\n",
      "[13]\tvalid_0's l2: 0.207492\tvalid_0's auc: 0.802011\n",
      "[14]\tvalid_0's l2: 0.206016\tvalid_0's auc: 0.80193\n",
      "Early stopping, best iteration is:\n",
      "[9]\tvalid_0's l2: 0.215351\tvalid_0's auc: 0.809041\n",
      "保存模型...\n",
      "开始预测...\n",
      "预估结果的rmse为:\n",
      "0.4640593794679212\n"
     ]
    }
   ],
   "source": [
    "# coding: utf-8\n",
    "import json\n",
    "import lightgbm as lgb\n",
    "import pandas as pd\n",
    "from sklearn.metrics import mean_squared_error\n",
    "\n",
    "\n",
    "# 加载数据集合\n",
    "print('Load data...')\n",
    "df_train = pd.read_csv('./data/regression.train.txt', header=None, sep='\\t')\n",
    "df_test = pd.read_csv('./data/regression.test.txt', header=None, sep='\\t')\n",
    "\n",
    "# 设定训练集和测试集\n",
    "y_train = df_train[0].values\n",
    "y_test = df_test[0].values\n",
    "X_train = df_train.drop(0, axis=1).values\n",
    "X_test = df_test.drop(0, axis=1).values\n",
    "\n",
    "# 构建lgb中的Dataset格式\n",
    "lgb_train = lgb.Dataset(X_train, y_train)\n",
    "lgb_eval = lgb.Dataset(X_test, y_test, reference=lgb_train)\n",
    "\n",
    "# 敲定好一组参数\n",
    "params = {\n",
    "    'task': 'train',\n",
    "    'boosting_type': 'gbdt',\n",
    "    'objective': 'regression',\n",
    "    'metric': {'l2', 'auc'},\n",
    "    'num_leaves': 31,\n",
    "    'learning_rate': 0.05,\n",
    "    'feature_fraction': 0.9,\n",
    "    'bagging_fraction': 0.8,\n",
    "    'bagging_freq': 5,\n",
    "    'verbose': 0\n",
    "}\n",
    "\n",
    "print('开始训练...')\n",
    "# 训练\n",
    "gbm = lgb.train(params,\n",
    "                lgb_train,\n",
    "                num_boost_round=20,\n",
    "                valid_sets=lgb_eval,\n",
    "                early_stopping_rounds=5)\n",
    "\n",
    "# 保存模型\n",
    "print('保存模型...')\n",
    "# 保存模型到文件中\n",
    "gbm.save_model('model.txt')\n",
    "\n",
    "print('开始预测...')\n",
    "# 预测\n",
    "y_pred = gbm.predict(X_test, num_iteration=gbm.best_iteration)\n",
    "# 评估\n",
    "print('预估结果的rmse为:')\n",
    "print(mean_squared_error(y_test, y_pred) ** 0.5)"
   ]
  },
  {
   "cell_type": "markdown",
   "metadata": {},
   "source": [
    "#### 2.添加样本权重训练\n",
    "\n",
    "**by 寒小阳**"
   ]
  },
  {
   "cell_type": "code",
   "execution_count": 2,
   "metadata": {},
   "outputs": [
    {
     "name": "stdout",
     "output_type": "stream",
     "text": [
      "加载数据...\n",
      "开始训练...\n",
      "[1]\ttraining's binary_logloss: 0.68205\n",
      "[2]\ttraining's binary_logloss: 0.673618\n",
      "[3]\ttraining's binary_logloss: 0.665891\n",
      "[4]\ttraining's binary_logloss: 0.656874\n",
      "[5]\ttraining's binary_logloss: 0.648523\n",
      "[6]\ttraining's binary_logloss: 0.641874\n",
      "[7]\ttraining's binary_logloss: 0.636029\n",
      "[8]\ttraining's binary_logloss: 0.629427\n",
      "[9]\ttraining's binary_logloss: 0.623354\n",
      "[10]\ttraining's binary_logloss: 0.617593\n"
     ]
    }
   ],
   "source": [
    "# coding: utf-8\n",
    "import json\n",
    "import lightgbm as lgb\n",
    "import pandas as pd\n",
    "import numpy as np\n",
    "from sklearn.metrics import mean_squared_error\n",
    "import warnings\n",
    "warnings.filterwarnings(\"ignore\")\n",
    "\n",
    "# 加载数据集\n",
    "print('加载数据...')\n",
    "df_train = pd.read_csv('./data/binary.train', header=None, sep='\\t')\n",
    "df_test = pd.read_csv('./data/binary.test', header=None, sep='\\t')\n",
    "W_train = pd.read_csv('./data/binary.train.weight', header=None)[0]\n",
    "W_test = pd.read_csv('./data/binary.test.weight', header=None)[0]\n",
    "\n",
    "y_train = df_train[0].values\n",
    "y_test = df_test[0].values\n",
    "X_train = df_train.drop(0, axis=1).values\n",
    "X_test = df_test.drop(0, axis=1).values\n",
    "\n",
    "num_train, num_feature = X_train.shape\n",
    "\n",
    "# 加载数据的同时加载权重\n",
    "lgb_train = lgb.Dataset(X_train, y_train,\n",
    "                        weight=W_train, free_raw_data=False)\n",
    "lgb_eval = lgb.Dataset(X_test, y_test, reference=lgb_train,\n",
    "                       weight=W_test, free_raw_data=False)\n",
    "\n",
    "# 设定参数\n",
    "params = {\n",
    "    'boosting_type': 'gbdt',\n",
    "    'objective': 'binary',\n",
    "    'metric': 'binary_logloss',\n",
    "    'num_leaves': 31,\n",
    "    'learning_rate': 0.05,\n",
    "    'feature_fraction': 0.9,\n",
    "    'bagging_fraction': 0.8,\n",
    "    'bagging_freq': 5,\n",
    "    'verbose': 0\n",
    "}\n",
    "\n",
    "# 产出特征名称\n",
    "feature_name = ['feature_' + str(col) for col in range(num_feature)]\n",
    "\n",
    "print('开始训练...')\n",
    "gbm = lgb.train(params,\n",
    "                lgb_train,\n",
    "                num_boost_round=10,\n",
    "                valid_sets=lgb_train,  # 评估训练集\n",
    "                feature_name=feature_name,\n",
    "                categorical_feature=[21])"
   ]
  },
  {
   "cell_type": "markdown",
   "metadata": {},
   "source": [
    "#### 3.模型的载入与预测\n",
    "\n",
    "**by 寒小阳**"
   ]
  },
  {
   "cell_type": "code",
   "execution_count": 3,
   "metadata": {},
   "outputs": [
    {
     "name": "stdout",
     "output_type": "stream",
     "text": [
      "完成10轮训练...\n",
      "第7个特征为:\n",
      "'feature_6'\n",
      "特征名称:\n",
      "[u'feature_0', u'feature_1', u'feature_2', u'feature_3', u'feature_4', u'feature_5', u'feature_6', u'feature_7', u'feature_8', u'feature_9', u'feature_10', u'feature_11', u'feature_12', u'feature_13', u'feature_14', u'feature_15', u'feature_16', u'feature_17', u'feature_18', u'feature_19', u'feature_20', u'feature_21', u'feature_22', u'feature_23', u'feature_24', u'feature_25', u'feature_26', u'feature_27']\n",
      "特征重要度:\n",
      "[8, 5, 1, 19, 7, 33, 2, 0, 2, 10, 5, 2, 0, 9, 3, 3, 0, 2, 2, 5, 1, 0, 36, 3, 33, 45, 29, 35]\n",
      "加载模型用于预测\n",
      "在测试集上的rmse为:\n",
      "0.4629245607636925\n"
     ]
    }
   ],
   "source": [
    "# 查看特征名称\n",
    "print('完成10轮训练...')\n",
    "print('第7个特征为:')\n",
    "print(repr(lgb_train.feature_name[6]))\n",
    "\n",
    "# 存储模型\n",
    "gbm.save_model('./model/lgb_model.txt')\n",
    "\n",
    "# 特征名称\n",
    "print('特征名称:')\n",
    "print(gbm.feature_name())\n",
    "\n",
    "# 特征重要度\n",
    "print('特征重要度:')\n",
    "print(list(gbm.feature_importance()))\n",
    "\n",
    "# 加载模型\n",
    "print('加载模型用于预测')\n",
    "bst = lgb.Booster(model_file='./model/lgb_model.txt')\n",
    "# 预测\n",
    "y_pred = bst.predict(X_test)\n",
    "# 在测试集评估效果\n",
    "print('在测试集上的rmse为:')\n",
    "print(mean_squared_error(y_test, y_pred) ** 0.5)"
   ]
  },
  {
   "cell_type": "markdown",
   "metadata": {},
   "source": [
    "#### 4.接着之前的模型继续训练\n",
    "\n",
    "**by 寒小阳**"
   ]
  },
  {
   "cell_type": "code",
   "execution_count": 4,
   "metadata": {},
   "outputs": [
    {
     "name": "stdout",
     "output_type": "stream",
     "text": [
      "[11]\tvalid_0's binary_logloss: 0.616177\n",
      "[12]\tvalid_0's binary_logloss: 0.611792\n",
      "[13]\tvalid_0's binary_logloss: 0.607043\n",
      "[14]\tvalid_0's binary_logloss: 0.602314\n",
      "[15]\tvalid_0's binary_logloss: 0.598433\n",
      "[16]\tvalid_0's binary_logloss: 0.595238\n",
      "[17]\tvalid_0's binary_logloss: 0.592047\n",
      "[18]\tvalid_0's binary_logloss: 0.588673\n",
      "[19]\tvalid_0's binary_logloss: 0.586084\n",
      "[20]\tvalid_0's binary_logloss: 0.584033\n",
      "以旧模型为初始化，完成第 10-20 轮训练...\n",
      "[21]\tvalid_0's binary_logloss: 0.616177\n",
      "[22]\tvalid_0's binary_logloss: 0.611834\n",
      "[23]\tvalid_0's binary_logloss: 0.607177\n",
      "[24]\tvalid_0's binary_logloss: 0.602577\n",
      "[25]\tvalid_0's binary_logloss: 0.59831\n",
      "[26]\tvalid_0's binary_logloss: 0.595259\n",
      "[27]\tvalid_0's binary_logloss: 0.592201\n",
      "[28]\tvalid_0's binary_logloss: 0.589017\n",
      "[29]\tvalid_0's binary_logloss: 0.586597\n",
      "[30]\tvalid_0's binary_logloss: 0.584454\n",
      "逐步调整学习率完成第 20-30 轮训练...\n",
      "[31]\tvalid_0's binary_logloss: 0.616053\n",
      "[32]\tvalid_0's binary_logloss: 0.612291\n",
      "[33]\tvalid_0's binary_logloss: 0.60856\n",
      "[34]\tvalid_0's binary_logloss: 0.605387\n",
      "[35]\tvalid_0's binary_logloss: 0.601744\n",
      "[36]\tvalid_0's binary_logloss: 0.598556\n",
      "[37]\tvalid_0's binary_logloss: 0.595585\n",
      "[38]\tvalid_0's binary_logloss: 0.593228\n",
      "[39]\tvalid_0's binary_logloss: 0.59018\n",
      "[40]\tvalid_0's binary_logloss: 0.588391\n",
      "逐步调整bagging比率完成第 30-40 轮训练...\n"
     ]
    }
   ],
   "source": [
    "# 继续训练\n",
    "# 从./model/model.txt中加载模型初始化\n",
    "gbm = lgb.train(params,\n",
    "                lgb_train,\n",
    "                num_boost_round=10,\n",
    "                init_model='./model/lgb_model.txt',\n",
    "                valid_sets=lgb_eval)\n",
    "\n",
    "print('以旧模型为初始化，完成第 10-20 轮训练...')\n",
    "\n",
    "# 在训练的过程中调整超参数\n",
    "# 比如这里调整的是学习率\n",
    "gbm = lgb.train(params,\n",
    "                lgb_train,\n",
    "                num_boost_round=10,\n",
    "                init_model=gbm,\n",
    "                learning_rates=lambda iter: 0.05 * (0.99 ** iter),\n",
    "                valid_sets=lgb_eval)\n",
    "\n",
    "print('逐步调整学习率完成第 20-30 轮训练...')\n",
    "\n",
    "# 调整其他超参数\n",
    "gbm = lgb.train(params,\n",
    "                lgb_train,\n",
    "                num_boost_round=10,\n",
    "                init_model=gbm,\n",
    "                valid_sets=lgb_eval,\n",
    "                callbacks=[lgb.reset_parameter(bagging_fraction=[0.7] * 5 + [0.6] * 5)])\n",
    "\n",
    "print('逐步调整bagging比率完成第 30-40 轮训练...')"
   ]
  },
  {
   "cell_type": "markdown",
   "metadata": {
    "collapsed": true
   },
   "source": [
    "#### 5.自定义损失函数\n",
    "\n",
    "**by 寒小阳**"
   ]
  },
  {
   "cell_type": "code",
   "execution_count": 5,
   "metadata": {},
   "outputs": [
    {
     "name": "stdout",
     "output_type": "stream",
     "text": [
      "[41]\tvalid_0's binary_logloss: 0.614429\tvalid_0's error: 0.268\n",
      "[42]\tvalid_0's binary_logloss: 0.610689\tvalid_0's error: 0.26\n",
      "[43]\tvalid_0's binary_logloss: 0.606267\tvalid_0's error: 0.264\n",
      "[44]\tvalid_0's binary_logloss: 0.601949\tvalid_0's error: 0.258\n",
      "[45]\tvalid_0's binary_logloss: 0.597271\tvalid_0's error: 0.266\n",
      "[46]\tvalid_0's binary_logloss: 0.593971\tvalid_0's error: 0.276\n",
      "[47]\tvalid_0's binary_logloss: 0.591427\tvalid_0's error: 0.278\n",
      "[48]\tvalid_0's binary_logloss: 0.588301\tvalid_0's error: 0.284\n",
      "[49]\tvalid_0's binary_logloss: 0.586562\tvalid_0's error: 0.288\n",
      "[50]\tvalid_0's binary_logloss: 0.584056\tvalid_0's error: 0.288\n",
      "用自定义的损失函数与评估标准完成第40-50轮...\n"
     ]
    }
   ],
   "source": [
    "# 类似在xgboost中的形式\n",
    "# 自定义损失函数需要\n",
    "def loglikelood(preds, train_data):\n",
    "    labels = train_data.get_label()\n",
    "    preds = 1. / (1. + np.exp(-preds))\n",
    "    grad = preds - labels\n",
    "    hess = preds * (1. - preds)\n",
    "    return grad, hess\n",
    "\n",
    "\n",
    "# 自定义评估函数\n",
    "def binary_error(preds, train_data):\n",
    "    labels = train_data.get_label()\n",
    "    return 'error', np.mean(labels != (preds > 0.5)), False\n",
    "\n",
    "\n",
    "gbm = lgb.train(params,\n",
    "                lgb_train,\n",
    "                num_boost_round=10,\n",
    "                init_model=gbm,\n",
    "                fobj=loglikelood,\n",
    "                feval=binary_error,\n",
    "                valid_sets=lgb_eval)\n",
    "\n",
    "print('用自定义的损失函数与评估标准完成第40-50轮...')"
   ]
  },
  {
   "cell_type": "markdown",
   "metadata": {},
   "source": [
    "### sklearn与LightGBM配合使用\n",
    "#### 1.LightGBM建模，sklearn评估\n",
    "**by 寒小阳**"
   ]
  },
  {
   "cell_type": "code",
   "execution_count": 6,
   "metadata": {},
   "outputs": [
    {
     "name": "stdout",
     "output_type": "stream",
     "text": [
      "加载数据...\n",
      "开始训练...\n",
      "[1]\tvalid_0's l1: 0.491735\n",
      "Training until validation scores don't improve for 5 rounds.\n",
      "[2]\tvalid_0's l1: 0.486563\n",
      "[3]\tvalid_0's l1: 0.481489\n",
      "[4]\tvalid_0's l1: 0.476848\n",
      "[5]\tvalid_0's l1: 0.47305\n",
      "[6]\tvalid_0's l1: 0.469049\n",
      "[7]\tvalid_0's l1: 0.465556\n",
      "[8]\tvalid_0's l1: 0.462208\n",
      "[9]\tvalid_0's l1: 0.458676\n",
      "[10]\tvalid_0's l1: 0.454998\n",
      "[11]\tvalid_0's l1: 0.452047\n",
      "[12]\tvalid_0's l1: 0.449158\n",
      "[13]\tvalid_0's l1: 0.44608\n",
      "[14]\tvalid_0's l1: 0.443554\n",
      "[15]\tvalid_0's l1: 0.440643\n",
      "[16]\tvalid_0's l1: 0.437687\n",
      "[17]\tvalid_0's l1: 0.435454\n",
      "[18]\tvalid_0's l1: 0.433288\n",
      "[19]\tvalid_0's l1: 0.431297\n",
      "[20]\tvalid_0's l1: 0.428946\n",
      "Did not meet early stopping. Best iteration is:\n",
      "[20]\tvalid_0's l1: 0.428946\n",
      "开始预测...\n",
      "预测结果的rmse是:\n",
      "0.4441153344254208\n"
     ]
    }
   ],
   "source": [
    "# coding: utf-8\n",
    "import lightgbm as lgb\n",
    "import pandas as pd\n",
    "from sklearn.metrics import mean_squared_error\n",
    "from sklearn.model_selection import GridSearchCV\n",
    "\n",
    "# 加载数据\n",
    "print('加载数据...')\n",
    "df_train = pd.read_csv('./data/regression.train.txt', header=None, sep='\\t')\n",
    "df_test = pd.read_csv('./data/regression.test.txt', header=None, sep='\\t')\n",
    "\n",
    "# 取出特征和标签\n",
    "y_train = df_train[0].values\n",
    "y_test = df_test[0].values\n",
    "X_train = df_train.drop(0, axis=1).values\n",
    "X_test = df_test.drop(0, axis=1).values\n",
    "\n",
    "print('开始训练...')\n",
    "# 直接初始化LGBMRegressor\n",
    "# 这个LightGBM的Regressor和sklearn中其他Regressor基本是一致的\n",
    "gbm = lgb.LGBMRegressor(objective='regression',\n",
    "                        num_leaves=31,\n",
    "                        learning_rate=0.05,\n",
    "                        n_estimators=20)\n",
    "\n",
    "# 使用fit函数拟合\n",
    "gbm.fit(X_train, y_train,\n",
    "        eval_set=[(X_test, y_test)],\n",
    "        eval_metric='l1',\n",
    "        early_stopping_rounds=5)\n",
    "\n",
    "# 预测\n",
    "print('开始预测...')\n",
    "y_pred = gbm.predict(X_test, num_iteration=gbm.best_iteration_)\n",
    "# 评估预测结果\n",
    "print('预测结果的rmse是:')\n",
    "print(mean_squared_error(y_test, y_pred) ** 0.5)"
   ]
  },
  {
   "cell_type": "markdown",
   "metadata": {},
   "source": [
    "#### 2.网格搜索查找最优超参数\n",
    "**by 寒小阳**"
   ]
  },
  {
   "cell_type": "code",
   "execution_count": 7,
   "metadata": {},
   "outputs": [
    {
     "name": "stdout",
     "output_type": "stream",
     "text": [
      "用网格搜索找到的最优超参数为:\n",
      "{'n_estimators': 40, 'learning_rate': 0.1}\n"
     ]
    }
   ],
   "source": [
    "# 配合scikit-learn的网格搜索交叉验证选择最优超参数\n",
    "estimator = lgb.LGBMRegressor(num_leaves=31)\n",
    "\n",
    "param_grid = {\n",
    "    'learning_rate': [0.01, 0.1, 1],\n",
    "    'n_estimators': [20, 40]\n",
    "}\n",
    "\n",
    "gbm = GridSearchCV(estimator, param_grid)\n",
    "\n",
    "gbm.fit(X_train, y_train)\n",
    "\n",
    "print('用网格搜索找到的最优超参数为:')\n",
    "print(gbm.best_params_)"
   ]
  },
  {
   "cell_type": "markdown",
   "metadata": {},
   "source": [
    "#### 3.绘图解释\n",
    "**by 寒小阳**"
   ]
  },
  {
   "cell_type": "code",
   "execution_count": 8,
   "metadata": {
    "scrolled": false
   },
   "outputs": [
    {
     "name": "stdout",
     "output_type": "stream",
     "text": [
      "加载数据...\n",
      "开始训练...\n",
      "[10]\ttraining's l2: 0.217995\ttraining's l1: 0.457448\tvalid_1's l2: 0.21641\tvalid_1's l1: 0.456464\n",
      "[20]\ttraining's l2: 0.205099\ttraining's l1: 0.436869\tvalid_1's l2: 0.201616\tvalid_1's l1: 0.434057\n",
      "[30]\ttraining's l2: 0.197421\ttraining's l1: 0.421302\tvalid_1's l2: 0.192514\tvalid_1's l1: 0.417019\n",
      "[40]\ttraining's l2: 0.192856\ttraining's l1: 0.411107\tvalid_1's l2: 0.187258\tvalid_1's l1: 0.406303\n",
      "[50]\ttraining's l2: 0.189593\ttraining's l1: 0.403695\tvalid_1's l2: 0.183688\tvalid_1's l1: 0.398997\n",
      "[60]\ttraining's l2: 0.187043\ttraining's l1: 0.398704\tvalid_1's l2: 0.181009\tvalid_1's l1: 0.393977\n",
      "[70]\ttraining's l2: 0.184982\ttraining's l1: 0.394876\tvalid_1's l2: 0.178803\tvalid_1's l1: 0.389805\n",
      "[80]\ttraining's l2: 0.1828\ttraining's l1: 0.391147\tvalid_1's l2: 0.176799\tvalid_1's l1: 0.386476\n",
      "[90]\ttraining's l2: 0.180817\ttraining's l1: 0.388101\tvalid_1's l2: 0.175775\tvalid_1's l1: 0.384404\n",
      "[100]\ttraining's l2: 0.179171\ttraining's l1: 0.385174\tvalid_1's l2: 0.175321\tvalid_1's l1: 0.382929\n",
      "在训练过程中绘图...\n"
     ]
    },
    {
     "data": {
      "image/png": "[encoded data removed]",
      "text/plain": [
       "<matplotlib.figure.Figure at 0x7f84f1cbcf90>"
      ]
     },
     "metadata": {},
     "output_type": "display_data"
    },
    {
     "name": "stdout",
     "output_type": "stream",
     "text": [
      "画出特征重要度...\n"
     ]
    },
    {
     "data": {
      "image/png": "[encoded data removed]",
      "text/plain": [
       "<matplotlib.figure.Figure at 0x7f84ecb569d0>"
      ]
     },
     "metadata": {},
     "output_type": "display_data"
    },
    {
     "name": "stdout",
     "output_type": "stream",
     "text": [
      "画出第84颗树...\n"
     ]
    },
    {
     "data": {
      "image/png": "[encoded data removed]",
      "text/plain": [
       "<matplotlib.figure.Figure at 0x7f84eca96a90>"
      ]
     },
     "metadata": {},
     "output_type": "display_data"
    }
   ],
   "source": [
    "# coding: utf-8\n",
    "import lightgbm as lgb\n",
    "import pandas as pd\n",
    "\n",
    "try:\n",
    "    import matplotlib.pyplot as plt\n",
    "except ImportError:\n",
    "    raise ImportError('You need to install matplotlib for plotting.')\n",
    "\n",
    "# 加载数据集\n",
    "print('加载数据...')\n",
    "df_train = pd.read_csv('./data/regression.train.txt', header=None, sep='\\t')\n",
    "df_test = pd.read_csv('./data/regression.test.txt', header=None, sep='\\t')\n",
    "\n",
    "# 取出特征和标签\n",
    "y_train = df_train[0].values\n",
    "y_test = df_test[0].values\n",
    "X_train = df_train.drop(0, axis=1).values\n",
    "X_test = df_test.drop(0, axis=1).values\n",
    "\n",
    "# 构建lgb中的Dataset数据格式\n",
    "lgb_train = lgb.Dataset(X_train, y_train)\n",
    "lgb_test = lgb.Dataset(X_test, y_test, reference=lgb_train)\n",
    "\n",
    "# 设定参数\n",
    "params = {\n",
    "    'num_leaves': 5,\n",
    "    'metric': ('l1', 'l2'),\n",
    "    'verbose': 0\n",
    "}\n",
    "\n",
    "evals_result = {}  # to record eval results for plotting\n",
    "\n",
    "print('开始训练...')\n",
    "# 训练\n",
    "gbm = lgb.train(params,\n",
    "                lgb_train,\n",
    "                num_boost_round=100,\n",
    "                valid_sets=[lgb_train, lgb_test],\n",
    "                feature_name=['f' + str(i + 1) for i in range(28)],\n",
    "                categorical_feature=[21],\n",
    "                evals_result=evals_result,\n",
    "                verbose_eval=10)\n",
    "\n",
    "print('在训练过程中绘图...')\n",
    "ax = lgb.plot_metric(evals_result, metric='l1')\n",
    "plt.show()\n",
    "\n",
    "print('画出特征重要度...')\n",
    "ax = lgb.plot_importance(gbm, max_num_features=10)\n",
    "plt.show()\n",
    "\n",
    "print('画出第84颗树...')\n",
    "ax = lgb.plot_tree(gbm, tree_index=83, figsize=(20, 8), show_info=['split_gain'])\n",
    "plt.show()\n",
    "\n",
    "#print('用graphviz画出第84颗树...')\n",
    "#graph = lgb.create_tree_digraph(gbm, tree_index=83, name='Tree84')\n",
    "#graph.render(view=True)"
   ]
  },
  {
   "cell_type": "code",
   "execution_count": null,
   "metadata": {
    "collapsed": true
   },
   "outputs": [],
   "source": []
  }
 ],
 "metadata": {
  "kernelspec": {
   "display_name": "Python 2",
   "language": "python",
   "name": "python2"
  },
  "language_info": {
   "codemirror_mode": {
    "name": "ipython",
    "version": 2
   },
   "file_extension": ".py",
   "mimetype": "text/x-python",
   "name": "python",
   "nbconvert_exporter": "python",
   "pygments_lexer": "ipython2",
   "version": "2.7.10"
  }
 },
 "nbformat": 4,
 "nbformat_minor": 2
}
