{
 "cells": [
  {
   "cell_type": "markdown",
   "metadata": {},
   "source": [
    "## SVM"
   ]
  },
  {
   "cell_type": "code",
   "execution_count": 6,
   "metadata": {},
   "outputs": [],
   "source": [
    "from sklearn.svm import SVC\n",
    "import numpy as np\n",
    "import struct\n",
    "\n",
    "#classfier"
   ]
  },
  {
   "cell_type": "code",
   "execution_count": 7,
   "metadata": {},
   "outputs": [],
   "source": [
    "def load_images(file_name):\n",
    "    ##   在读取或写入一个文件之前，你必须使用 Python 内置open()函数来打开它。##\n",
    "    ##   file object = open(file_name [, access_mode][, buffering])          ##\n",
    "    ##   file_name是包含您要访问的文件名的字符串值。                         ##\n",
    "    ##   access_mode指定该文件已被打开，即读，写，追加等方式。               ##\n",
    "    ##   0表示不使用缓冲，1表示在访问一个文件时进行缓冲。                    ##\n",
    "    ##   这里rb表示只能以二进制读取的方式打开一个文件                        ##\n",
    "    binfile = open(file_name, 'rb') \n",
    "    ##   从一个打开的文件读取数据\n",
    "    buffers = binfile.read()\n",
    "    ##   读取image文件前4个整型数字\n",
    "    magic,num,rows,cols = struct.unpack_from('>IIII',buffers, 0)\n",
    "    ##   整个images数据大小为60000*28*28\n",
    "    bits = num * rows * cols\n",
    "    ##   读取images数据\n",
    "    images = struct.unpack_from('>' + str(bits) + 'B', buffers, struct.calcsize('>IIII'))\n",
    "    ##   关闭文件\n",
    "    binfile.close()\n",
    "    ##   转换为[60000,784]型数组\n",
    "    images = np.reshape(images, [num, rows * cols])\n",
    "    return images"
   ]
  },
  {
   "cell_type": "code",
   "execution_count": 8,
   "metadata": {},
   "outputs": [],
   "source": [
    "def load_labels(file_name):\n",
    "    ##   打开文件\n",
    "    binfile = open(file_name, 'rb')\n",
    "    ##   从一个打开的文件读取数据    \n",
    "    buffers = binfile.read()\n",
    "    ##   读取label文件前2个整形数字，label的长度为num\n",
    "    magic,num = struct.unpack_from('>II', buffers, 0) \n",
    "    ##   读取labels数据\n",
    "    labels = struct.unpack_from('>' + str(num) + \"B\", buffers, struct.calcsize('>II'))\n",
    "    ##   关闭文件\n",
    "    binfile.close()\n",
    "    ##   转换为一维数组\n",
    "    labels = np.reshape(labels, [num])\n",
    "    return labels   "
   ]
  },
  {
   "cell_type": "code",
   "execution_count": 9,
   "metadata": {},
   "outputs": [
    {
     "name": "stdout",
     "output_type": "stream",
     "text": [
      "(60000, 784) (60000,) (10000, 784) (10000,)\n"
     ]
    }
   ],
   "source": [
    "filename_train_images = './Mnist/train-images.idx3-ubyte'\n",
    "filename_train_labels = './Mnist/train-labels.idx1-ubyte'\n",
    "filename_test_images = './Mnist/t10k-images.idx3-ubyte'\n",
    "filename_test_labels = './Mnist/t10k-labels.idx1-ubyte'\n",
    "train_images=load_images(filename_train_images)\n",
    "train_labels=load_labels(filename_train_labels)\n",
    "test_images=load_images(filename_test_images)\n",
    "test_labels=load_labels(filename_test_labels)\n",
    "print(train_images.shape, train_labels.shape, test_images.shape, test_labels.shape)"
   ]
  },
  {
   "cell_type": "code",
   "execution_count": 10,
   "metadata": {},
   "outputs": [],
   "source": [
    "mnist_SVM = SVC()"
   ]
  },
  {
   "cell_type": "code",
   "execution_count": null,
   "metadata": {},
   "outputs": [],
   "source": [
    "mnist_SVM.fit(train_images, train_labels)"
   ]
  },
  {
   "cell_type": "code",
   "execution_count": null,
   "metadata": {},
   "outputs": [],
   "source": [
    "from sklearn.metrics import accuracy_score"
   ]
  },
  {
   "cell_type": "code",
   "execution_count": null,
   "metadata": {},
   "outputs": [],
   "source": []
  }
 ],
 "metadata": {
  "kernelspec": {
   "display_name": "Python 3",
   "language": "python",
   "name": "python3"
  },
  "language_info": {
   "codemirror_mode": {
    "name": "ipython",
    "version": 3
   },
   "file_extension": ".py",
   "mimetype": "text/x-python",
   "name": "python",
   "nbconvert_exporter": "python",
   "pygments_lexer": "ipython3",
   "version": "3.6.5"
  }
 },
 "nbformat": 4,
 "nbformat_minor": 2
}
