{
 "cells": [
  {
   "cell_type": "code",
   "execution_count": 2,
   "metadata": {},
   "outputs": [],
   "source": [
    "import numpy as np\n",
    "import pandas as pd\n",
    "import matplotlib as mat"
   ]
  },
  {
   "cell_type": "code",
   "execution_count": 6,
   "metadata": {},
   "outputs": [
    {
     "name": "stdout",
     "output_type": "stream",
     "text": [
      "[[1.   2.   3.  ]\n",
      " [2.   3.   4.21]\n",
      " [3.   4.   5.  ]]\n"
     ]
    }
   ],
   "source": [
    "array =  [[1,2,3],\n",
    "         [2,3,4.21],\n",
    "         [3,4,5]]\n",
    "#convert normal array to nd array\n",
    "array = np.array(array) \n",
    "print(array)"
   ]
  },
  {
   "cell_type": "code",
   "execution_count": 7,
   "metadata": {},
   "outputs": [
    {
     "name": "stdout",
     "output_type": "stream",
     "text": [
      "number of dimensions: 2\n",
      "shape: (3, 3)\n",
      "size: 9\n",
      "dtype float64\n"
     ]
    }
   ],
   "source": [
    "print('number of dimensions:', array.ndim) #dimension of array\n",
    "print('shape:', array.shape) #shape of array 3 x 5\n",
    "print('size:', array.size) #size of array\n",
    "print('dtype', array.dtype)"
   ]
  },
  {
   "cell_type": "code",
   "execution_count": 12,
   "metadata": {},
   "outputs": [
    {
     "name": "stdout",
     "output_type": "stream",
     "text": [
      "float16\n"
     ]
    }
   ],
   "source": [
    "a = np.array([2,3,4], dtype=np.float16) #type of array \n",
    "print(a.dtype)"
   ]
  },
  {
   "cell_type": "code",
   "execution_count": 8,
   "metadata": {},
   "outputs": [
    {
     "name": "stdout",
     "output_type": "stream",
     "text": [
      "[[0. 0. 0. 0.]\n",
      " [0. 0. 0. 0.]\n",
      " [0. 0. 0. 0.]]\n",
      "[[1. 1. 1. 1.]\n",
      " [1. 1. 1. 1.]\n",
      " [1. 1. 1. 1.]]\n",
      "[[1. 0.]\n",
      " [0. 1.]]\n"
     ]
    }
   ],
   "source": [
    "a = np.zeros((3, 4)) #zero matrix\n",
    "print(a)\n",
    "a = np.ones((3, 4)) #one matrix\n",
    "print(a)\n",
    "a = np.eye(2) #unit matrix\n",
    "print(a)"
   ]
  },
  {
   "cell_type": "code",
   "execution_count": 24,
   "metadata": {},
   "outputs": [
    {
     "name": "stdout",
     "output_type": "stream",
     "text": [
      "[ 0  2  4  6  8 10 12 14 16 18 20 22]\n"
     ]
    }
   ],
   "source": [
    "a = np.arange(0, 24, 2) #range array\n",
    "print(a)"
   ]
  },
  {
   "cell_type": "code",
   "execution_count": 26,
   "metadata": {
    "scrolled": false
   },
   "outputs": [
    {
     "name": "stdout",
     "output_type": "stream",
     "text": [
      "[[ 0  2  4  6]\n",
      " [ 8 10 12 14]\n",
      " [16 18 20 22]]\n"
     ]
    }
   ],
   "source": [
    "a = a.reshape((3, 4)) #reshape array to 3 rows x 4 columns\n",
    "print(a)"
   ]
  },
  {
   "cell_type": "code",
   "execution_count": 28,
   "metadata": {},
   "outputs": [
    {
     "name": "stdout",
     "output_type": "stream",
     "text": [
      "[[ 1.          1.47368421  1.94736842  2.42105263  2.89473684]\n",
      " [ 3.36842105  3.84210526  4.31578947  4.78947368  5.26315789]\n",
      " [ 5.73684211  6.21052632  6.68421053  7.15789474  7.63157895]\n",
      " [ 8.10526316  8.57894737  9.05263158  9.52631579 10.        ]]\n"
     ]
    }
   ],
   "source": [
    "a = np.linspace(1, 10, 20).reshape((4, 5)) #generate\n",
    "print(a)"
   ]
  },
  {
   "cell_type": "code",
   "execution_count": 9,
   "metadata": {},
   "outputs": [
    {
     "name": "stdout",
     "output_type": "stream",
     "text": [
      "[10 20 30 40]\n",
      "[10 15 20 25]\n"
     ]
    }
   ],
   "source": [
    "a = np.arange(10, 41, 10)\n",
    "b = np.arange(10, 26, 5)\n",
    "print(a)\n",
    "print(b)"
   ]
  },
  {
   "cell_type": "code",
   "execution_count": 10,
   "metadata": {
    "scrolled": true
   },
   "outputs": [
    {
     "name": "stdout",
     "output_type": "stream",
     "text": [
      "[-0.54402111  0.91294525 -0.98803162  0.74511316]\n",
      "[False  True False False]\n"
     ]
    }
   ],
   "source": [
    "#basic operations\n",
    "c = a - b\n",
    "c = a + b\n",
    "c = a ** 2\n",
    "c = np.sin(a)\n",
    "print(c)\n",
    "print(b == 15)"
   ]
  },
  {
   "cell_type": "code",
   "execution_count": 14,
   "metadata": {},
   "outputs": [
    {
     "name": "stdout",
     "output_type": "stream",
     "text": [
      "[[10 20]\n",
      " [30 40]]\n",
      "[[10 15]\n",
      " [20 25]]\n",
      "[[ 100  300]\n",
      " [ 600 1000]]\n",
      "[[ 100]\n",
      " [ 300]\n",
      " [ 600]\n",
      " [1000]]\n"
     ]
    }
   ],
   "source": [
    "#multiply one by one xij * yij \n",
    "#warning * this is not matrix multiplication\n",
    "a = a.reshape((2, 2))\n",
    "b = b.reshape((2, 2)) \n",
    "print(a)\n",
    "print(b)\n",
    "c = a * b\n",
    "print(c)\n",
    "c.resize((4,1))\n",
    "print(c)"
   ]
  },
  {
   "cell_type": "code",
   "execution_count": 41,
   "metadata": {},
   "outputs": [
    {
     "name": "stdout",
     "output_type": "stream",
     "text": [
      "[[ 500  650]\n",
      " [1100 1450]]\n"
     ]
    }
   ],
   "source": [
    "#matrix multiplication\n",
    "c_dot = np.dot(a, b)\n",
    "c_dot = a.dot(b)\n",
    "print(c_dot)"
   ]
  },
  {
   "cell_type": "code",
   "execution_count": 44,
   "metadata": {},
   "outputs": [
    {
     "name": "stdout",
     "output_type": "stream",
     "text": [
      "[[0.70125113 0.08940205 0.0017395  0.04513172]\n",
      " [0.29047462 0.15144242 0.95743226 0.93760053]]\n"
     ]
    }
   ],
   "source": [
    "a = np.random.random((2 ,4)) #shape of array random of [0, 1]\n",
    "print(a)"
   ]
  },
  {
   "cell_type": "code",
   "execution_count": 58,
   "metadata": {},
   "outputs": [
    {
     "name": "stdout",
     "output_type": "stream",
     "text": [
      "[0.8375244  2.33694983]\n",
      "[0.29047462 0.08940205 0.0017395  0.04513172]\n",
      "[0.70125113 0.95743226]\n"
     ]
    }
   ],
   "source": [
    "# axis=0 means sum by columns\n",
    "# axis=1 means sum by rows\n",
    "print(np.sum(a, axis=1)) \n",
    "print(np.min(a, axis=0))\n",
    "print(np.max(a, axis=1))"
   ]
  },
  {
   "cell_type": "code",
   "execution_count": 78,
   "metadata": {
    "scrolled": true
   },
   "outputs": [
    {
     "name": "stdout",
     "output_type": "stream",
     "text": [
      "[[ 0  1  2  3]\n",
      " [ 4  5  6  7]\n",
      " [ 8  9 10 11]]\n",
      "11\n",
      "5.5\n",
      "5.5\n",
      "[ 0  1  3  6 10 15 21 28 36 45 55 66]\n",
      "[[1 1 1]\n",
      " [1 1 1]\n",
      " [1 1 1]]\n",
      "(array([0, 0, 0, 1, 1, 1, 1, 2, 2, 2, 2], dtype=int64), array([1, 2, 3, 0, 1, 2, 3, 0, 1, 2, 3], dtype=int64))\n"
     ]
    }
   ],
   "source": [
    "a = np.arange(0, 12).reshape((3, 4))\n",
    "print(a)\n",
    "\n",
    "index_min = np.argmax(a)# get index of array \n",
    "print(index_min)\n",
    "print(a.mean())\n",
    "print(np.median(a))\n",
    "print(np.cumsum(a))\n",
    "print(np.diff(a))\n",
    "print(np.nonzero(a)) #get index of nonzero in array"
   ]
  },
  {
   "cell_type": "code",
   "execution_count": 84,
   "metadata": {},
   "outputs": [
    {
     "name": "stdout",
     "output_type": "stream",
     "text": [
      "[[14 13 12 11]\n",
      " [10  9  8  7]\n",
      " [ 6  5  4  3]]\n",
      "[[11 12 13 14]\n",
      " [ 7  8  9 10]\n",
      " [ 3  4  5  6]]\n",
      "[[14 10  6]\n",
      " [13  9  5]\n",
      " [12  8  4]\n",
      " [11  7  3]]\n",
      "[[5 5 5 5]\n",
      " [5 5 5 5]\n",
      " [5 5 4 3]]\n",
      "[10.  9.  8.  7.]\n"
     ]
    }
   ],
   "source": [
    "a = np.arange(14, 2, -1).reshape((3, 4))\n",
    "print(a)\n",
    "print(np.sort(a)) #sort by column\n",
    "print(a.T) # matrix tanspose\n",
    "# if < min, then = min, if > max, then = max\n",
    "print(np.clip(a, 3, 5)) \n",
    "\n",
    "print(np.mean(a, axis=0))"
   ]
  },
  {
   "cell_type": "code",
   "execution_count": 88,
   "metadata": {},
   "outputs": [
    {
     "name": "stdout",
     "output_type": "stream",
     "text": [
      "[[ 3  4  5  6]\n",
      " [ 7  8  9 10]\n",
      " [11 12 13 14]] \n",
      "\n",
      "[11 12 13 14]\n"
     ]
    }
   ],
   "source": [
    "a = np.arange(3, 15).reshape((3, 4))\n",
    "print(a, '\\n')\n",
    "print(a[2])"
   ]
  },
  {
   "cell_type": "code",
   "execution_count": 23,
   "metadata": {},
   "outputs": [
    {
     "name": "stdout",
     "output_type": "stream",
     "text": [
      "[[6 4 3 3 6 5 3 6 7 3]\n",
      " [3 5 3 6 7 7 6 7 3 3]\n",
      " [4 6 5 5 6 7 7 5 7 5]\n",
      " [7 7 4 6 3 3 4 4 4 4]\n",
      " [6 7 3 7 4 6 5 4 4 5]\n",
      " [3 5 3 4 7 6 5 6 6 4]\n",
      " [4 5 4 4 6 6 7 5 3 3]\n",
      " [5 3 7 7 5 3 5 4 5 5]\n",
      " [4 5 3 7 6 7 7 5 5 6]\n",
      " [6 4 4 4 5 7 7 5 5 7]]\n"
     ]
    }
   ],
   "source": [
    "print(np.random.randint(3, 8, (10, 10)))"
   ]
  },
  {
   "cell_type": "code",
   "execution_count": 24,
   "metadata": {},
   "outputs": [
    {
     "name": "stdout",
     "output_type": "stream",
     "text": [
      "1.118033988749895\n"
     ]
    }
   ],
   "source": [
    "x = np.random.randint(3, 8, (2, 3))\n",
    "print(np.std(x))\n",
    "np.var(x)\n",
    "np.mean(x)"
   ]
  },
  {
   "cell_type": "code",
   "execution_count": 3,
   "metadata": {},
   "outputs": [
    {
     "name": "stdout",
     "output_type": "stream",
     "text": [
      "[[30 22]\n",
      " [94 76]]\n"
     ]
    }
   ],
   "source": [
    "array_a = np.array([1, 2, 3, 4, 7, 9]).reshape(2, 3)\n",
    "array_b = np.array([2, 4, 2, 6, 8, 2]).T.reshape(3, 2)\n",
    "array_c = array_a.dot(array_b)\n",
    "# array_c = array_a.multiply(array_b)\n",
    "print(array_c)\n",
    "# print(array_a)"
   ]
  },
  {
   "cell_type": "code",
   "execution_count": null,
   "metadata": {},
   "outputs": [],
   "source": [
    "x = np.array()"
   ]
  }
 ],
 "metadata": {
  "kernelspec": {
   "display_name": "Python 3",
   "language": "python",
   "name": "python3"
  },
  "language_info": {
   "codemirror_mode": {
    "name": "ipython",
    "version": 3
   },
   "file_extension": ".py",
   "mimetype": "text/x-python",
   "name": "python",
   "nbconvert_exporter": "python",
   "pygments_lexer": "ipython3",
   "version": "3.6.5"
  }
 },
 "nbformat": 4,
 "nbformat_minor": 2
}
