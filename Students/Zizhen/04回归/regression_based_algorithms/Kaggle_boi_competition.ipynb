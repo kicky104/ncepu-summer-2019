{
 "cells": [
  {
   "cell_type": "markdown",
   "metadata": {},
   "source": [
    "## bio competition\n",
    "这是一个由生物的分子信息判定是否会有生物反应的比赛，地址请戳[这里](https://www.kaggle.com/c/bioresponse)。<br>\n",
    "我们用简单的Logistic Regression来试着搭建这样一个模型完成指定的分类任务。<br>\n",
    "\n",
    "寒小阳(hanxiaoyng.ml@gmail.com)<br>\n",
    "2016-06"
   ]
  },
  {
   "cell_type": "markdown",
   "metadata": {},
   "source": [
    "### 问题描述是这样的\n",
    "![](http://7xo0y8.com1.z0.glb.clouddn.com/bio_competition.png?imageView/2/w/600/q/100)\n",
    "### 数据大概是长下面这样的\n",
    "![](http://7xo0y8.com1.z0.glb.clouddn.com/new.png?imageView/2/w/600/q/100)"
   ]
  },
  {
   "cell_type": "code",
   "execution_count": 4,
   "metadata": {
    "collapsed": true
   },
   "outputs": [],
   "source": [
    "# 基本CSV读写操作\n",
    "# 我们需要读取给定的训练数据，再进行后续的数据(特征等)处理\n",
    "\n",
    "def read_data(file_name):\n",
    "    f = open(file_name)\n",
    "    #ignore header\n",
    "    f.readline()\n",
    "    samples = []\n",
    "    target = []\n",
    "    for line in f:\n",
    "        line = line.strip().split(\",\")\n",
    "        sample = [float(x) for x in line]\n",
    "        samples.append(sample)\n",
    "    return samples\n",
    "\n",
    "def write_delimited_file(file_path, data,header=None, delimiter=\",\"):\n",
    "    f_out = open(file_path,\"w\")\n",
    "    if header is not None:\n",
    "        f_out.write(delimiter.join(header) + \"\\n\")\n",
    "    for line in data:\n",
    "        if isinstance(line, str):\n",
    "            f_out.write(line + \"\\n\")\n",
    "        else:\n",
    "            f_out.write(delimiter.join(line) + \"\\n\")\n",
    "    f_out.close()"
   ]
  },
  {
   "cell_type": "code",
   "execution_count": 8,
   "metadata": {
    "collapsed": false
   },
   "outputs": [
    {
     "name": "stdout",
     "output_type": "stream",
     "text": [
      "读取训练数据完毕\n",
      "...\n",
      "\n",
      "读取待预测数据\n",
      "...\n",
      "\n",
      "Logistic Regression训练完毕!\n",
      "...\n",
      "\n",
      "Logistic Regression预测完毕! 请提交lr_solution.csv文件到Kaggle\n"
     ]
    }
   ],
   "source": [
    "#!/usr/bin/env python\n",
    "\n",
    "from sklearn.linear_model import LogisticRegression\n",
    "import csv_io\n",
    "import math\n",
    "import scipy\n",
    "\n",
    "def train_and_predict():\n",
    "    #read in the training file\n",
    "    train = read_data(\"train.csv\")\n",
    "    print '读取训练数据完毕\\n...\\n'\n",
    "    #set the training responses\n",
    "    target = [x[0] for x in train]\n",
    "    #set the training features\n",
    "    train = [x[1:] for x in train]\n",
    "    #read in the test file\n",
    "    realtest = read_data(\"test.csv\")\n",
    "    print '读取待预测数据\\n...\\n'\n",
    "\n",
    "    # code for logistic regression\n",
    "    lr = LogisticRegression()\n",
    "    lr.fit(train, target)\n",
    "    print 'Logistic Regression训练完毕!\\n...\\n'\n",
    "    predicted_probs = lr.predict_proba(realtest)\n",
    "\n",
    "    # write solutions to file\n",
    "    predicted_probs = [\"%f\" % x[1] for x in predicted_probs]\n",
    "    write_delimited_file(\"lr_solution.csv\", predicted_probs)\n",
    "\n",
    "    print 'Logistic Regression预测完毕! 请提交lr_solution.csv文件到Kaggle'\n",
    "\n",
    "if __name__==\"__main__\":\n",
    "    train_and_predict()"
   ]
  },
  {
   "cell_type": "code",
   "execution_count": null,
   "metadata": {
    "collapsed": true
   },
   "outputs": [],
   "source": []
  }
 ],
 "metadata": {
  "kernelspec": {
   "display_name": "Python 2",
   "language": "python",
   "name": "python2"
  },
  "language_info": {
   "codemirror_mode": {
    "name": "ipython",
    "version": 2
   },
   "file_extension": ".py",
   "mimetype": "text/x-python",
   "name": "python",
   "nbconvert_exporter": "python",
   "pygments_lexer": "ipython2",
   "version": "2.7.10"
  }
 },
 "nbformat": 4,
 "nbformat_minor": 0
}
