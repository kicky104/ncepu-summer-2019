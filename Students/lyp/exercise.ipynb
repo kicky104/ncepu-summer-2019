{
 "cells": [
  {
   "cell_type": "code",
   "execution_count": 17,
   "metadata": {},
   "outputs": [
    {
     "name": "stdout",
     "output_type": "stream",
     "text": [
      "[[1 3 2]\n",
      " [2 4 5]]\n",
      "(2, 3)\n",
      "[10 15 20]\n",
      "(3,)\n",
      "[ 95 180]\n",
      "[[ 10  45  40]\n",
      " [ 20  60 100]]\n"
     ]
    }
   ],
   "source": [
    "import numpy as np\n",
    "a=np.array([[1,3,2],[2,4,5]])\n",
    "print(a)\n",
    "print(a.shape)\n",
    "b=np.arange(10,24,5)\n",
    "print(b)\n",
    "print(b.shape)\n",
    "print(a.dot(b))\n",
    "print(np.multiply(a,b))"
   ]
  },
  {
   "cell_type": "code",
   "execution_count": 19,
   "metadata": {},
   "outputs": [
    {
     "name": "stdout",
     "output_type": "stream",
     "text": [
      "[[1 4 5 7]]\n",
      "[1 4 5 7]\n"
     ]
    }
   ],
   "source": [
    "import numpy as np\n",
    "a=np.array([1,4,5,7])\n",
    "print(a.reshape(1,4))\n",
    "print(a)"
   ]
  },
  {
   "cell_type": "code",
   "execution_count": 21,
   "metadata": {},
   "outputs": [
    {
     "name": "stdout",
     "output_type": "stream",
     "text": [
      "float64\n",
      "float64\n"
     ]
    }
   ],
   "source": [
    "import numpy as np\n",
    "a=np.array([1.23456,2.34])\n",
    "print(a.dtype)\n",
    "a=np.array([1.6,2.34])\n",
    "print(a.dtype)"
   ]
  },
  {
   "cell_type": "code",
   "execution_count": 26,
   "metadata": {},
   "outputs": [
    {
     "name": "stdout",
     "output_type": "stream",
     "text": [
      "[[1]\n",
      " [4]\n",
      " [6]]\n",
      "[[2 4 8 9 3]]\n",
      "[[ 2  4  8  9  3]\n",
      " [ 8 16 32 36 12]\n",
      " [12 24 48 54 18]]\n",
      "[[ 2  4  8  9  3]\n",
      " [ 8 16 32 36 12]\n",
      " [12 24 48 54 18]]\n"
     ]
    }
   ],
   "source": [
    "import numpy as np\n",
    "a=np.array([1,4,6])\n",
    "b=a.reshape(3,1)\n",
    "c=np.array([2,4,8,9,3])\n",
    "d=c.reshape(1,5)\n",
    "print(b)\n",
    "print(d)\n",
    "print(np.multiply(b,d))\n",
    "print(b.dot(d))"
   ]
  },
  {
   "cell_type": "code",
   "execution_count": null,
   "metadata": {},
   "outputs": [],
   "source": [
    "import numpy as np\n",
    "a=np.array([1,3,5])\n",
    "print(a.T)"
   ]
  },
  {
   "cell_type": "code",
   "execution_count": 10,
   "metadata": {},
   "outputs": [
    {
     "name": "stderr",
     "output_type": "stream",
     "text": [
      "C:\\ProgramData\\Anaconda3\\lib\\site-packages\\ipykernel_launcher.py:9: DeprecationWarning: \n",
      ".ix is deprecated. Please use\n",
      ".loc for label based indexing or\n",
      ".iloc for positional indexing\n",
      "\n",
      "See the documentation here:\n",
      "http://pandas.pydata.org/pandas-docs/stable/indexing.html#ix-indexer-is-deprecated\n",
      "  if __name__ == '__main__':\n"
     ]
    },
    {
     "data": {
      "text/plain": [
       "城市        nanjing\n",
       "huanbi        130\n",
       "dingji        123\n",
       "tongbi        234\n",
       "Name: c2, dtype: object"
      ]
     },
     "execution_count": 10,
     "metadata": {},
     "output_type": "execute_result"
    }
   ],
   "source": [
    "import pandas as pd\n",
    "d1 = {\n",
    "    '城市':['neijing','nanjing','sjhanghai'],\n",
    "    'huanbi' :[102,130,124],\n",
    "    'dingji':[121,123,12],\n",
    "    'tongbi':[120,234,23]\n",
    "}\n",
    "d = pd.DataFrame(d1,index=['c1','c2','c3'])\n",
    "d.ix['c2']"
   ]
  },
  {
   "cell_type": "code",
   "execution_count": 3,
   "metadata": {},
   "outputs": [
    {
     "name": "stdout",
     "output_type": "stream",
     "text": [
      "[-1.998188    0.13188154  0.03154466 -1.77690421 -2.57039532  2.46053114\n",
      "  1.20199953  0.60770629 -0.82295564 -0.30578242]\n",
      "[-3.         -2.33333333 -1.66666667 -1.         -0.33333333  0.33333333\n",
      "  1.          1.66666667  2.33333333  3.        ]\n"
     ]
    }
   ],
   "source": [
    "import numpy as np\n",
    "x = np.random.uniform(-3.0,3.0,size=10)\n",
    "print(x)\n",
    "y = np.linspace(-3,3,10)\n",
    "print(y)"
   ]
  },
  {
   "cell_type": "code",
   "execution_count": null,
   "metadata": {},
   "outputs": [],
   "source": []
  }
 ],
 "metadata": {
  "kernelspec": {
   "display_name": "Python 3",
   "language": "python",
   "name": "python3"
  },
  "language_info": {
   "codemirror_mode": {
    "name": "ipython",
    "version": 3
   },
   "file_extension": ".py",
   "mimetype": "text/x-python",
   "name": "python",
   "nbconvert_exporter": "python",
   "pygments_lexer": "ipython3",
   "version": "3.7.3"
  }
 },
 "nbformat": 4,
 "nbformat_minor": 2
}
